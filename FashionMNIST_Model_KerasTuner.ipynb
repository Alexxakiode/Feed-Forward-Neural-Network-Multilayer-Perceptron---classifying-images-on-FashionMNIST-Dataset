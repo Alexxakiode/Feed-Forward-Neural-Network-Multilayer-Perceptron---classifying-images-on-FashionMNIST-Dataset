{
  "nbformat": 4,
  "nbformat_minor": 0,
  "metadata": {
    "colab": {
      "provenance": [],
      "include_colab_link": true
    },
    "kernelspec": {
      "name": "python3",
      "display_name": "Python 3"
    },
    "accelerator": "GPU",
    "gpuClass": "standard"
  },
  "cells": [
    {
      "cell_type": "markdown",
      "metadata": {
        "id": "view-in-github",
        "colab_type": "text"
      },
      "source": [
        "<a href=\"https://colab.research.google.com/github/Alexxakiode/Feed-Forward-Neural-Network-Multilayer-Perceptron---classifying-images-on-FashionMNIST-Dataset/blob/main/FashionMNIST_Model_KerasTuner.ipynb\" target=\"_parent\"><img src=\"https://colab.research.google.com/assets/colab-badge.svg\" alt=\"Open In Colab\"/></a>"
      ]
    },
    {
      "cell_type": "markdown",
      "metadata": {
        "id": "UiXM_QnXgGgH"
      },
      "source": [
        "## Classifying FashionMNIST Dataset using Keras Autotuner"
      ]
    },
    {
      "cell_type": "markdown",
      "source": [
        "# Library imports"
      ],
      "metadata": {
        "id": "3M8B1MUdHFXC"
      }
    },
    {
      "cell_type": "code",
      "metadata": {
        "id": "A3jOpq8efmdo"
      },
      "source": [
        "# Import the pandas library for data exploration\n",
        "import pandas as pd\n",
        "import numpy as np\n",
        "from google.colab import files\n",
        "\n",
        "import cv2\n",
        "import tensorflow as tf\n",
        "import keras\n",
        "import seaborn as sns\n",
        "import os\n",
        "\n",
        "\n",
        "from tensorflow import keras\n",
        "from IPython.display import display\n",
        "from tensorflow.keras import utils\n",
        "from keras import layers\n",
        "from keras import Sequential\n",
        "from keras.layers import Dense, Dropout\n",
        "from tensorflow.keras import regularizers\n",
        "\n",
        "# plot the history of the training\n",
        "import matplotlib.pyplot as plt\n",
        "\n",
        "# split the data into train and test\n",
        "from sklearn.model_selection import train_test_split\n",
        "\n",
        "# Normalizer library \n",
        "from sklearn.preprocessing import normalize\n",
        "\n",
        "# Other libraries\n",
        "import matplotlib.image as mpimg\n",
        "from tensorflow.keras.preprocessing.image import ImageDataGenerator\n",
        "from tensorflow.keras.preprocessing import image\n",
        "import random\n",
        "from tensorflow.keras.preprocessing.image import img_to_array, load_img\n",
        "\n",
        "RANDOM_SEED=100\n",
        "seed =RANDOM_SEED\n"
      ],
      "execution_count": null,
      "outputs": []
    },
    {
      "cell_type": "markdown",
      "metadata": {
        "id": "HdFwU3T1gTQo"
      },
      "source": [
        "# FashionMNIST Dataset loading"
      ]
    },
    {
      "cell_type": "code",
      "source": [
        "# Import fashion_mnist module\n",
        "#from keras import fashion_mnist\n",
        "from keras.datasets import fashion_mnist"
      ],
      "metadata": {
        "id": "108Q1n_-wTQl"
      },
      "execution_count": null,
      "outputs": []
    },
    {
      "cell_type": "markdown",
      "source": [
        "# Data visualisation"
      ],
      "metadata": {
        "id": "yJRaafqoHU4x"
      }
    },
    {
      "cell_type": "code",
      "source": [
        "# ! pip install keras-tuner"
      ],
      "metadata": {
        "id": "FB6sPTdgp_JA"
      },
      "execution_count": null,
      "outputs": []
    },
    {
      "cell_type": "code",
      "source": [
        "! pip install -q -U keras_tuner"
      ],
      "metadata": {
        "id": "GYQZS7EaJ5FB",
        "colab": {
          "base_uri": "https://localhost:8080/"
        },
        "outputId": "83578e78-1a57-4cde-f1ff-ebab5b71ad26"
      },
      "execution_count": null,
      "outputs": [
        {
          "output_type": "stream",
          "name": "stdout",
          "text": [
            "\u001b[2K     \u001b[90m━━━━━━━━━━━━━━━━━━━━━━━━━━━━━━━━━━━━━━━\u001b[0m \u001b[32m167.3/167.3 KB\u001b[0m \u001b[31m6.4 MB/s\u001b[0m eta \u001b[36m0:00:00\u001b[0m\n",
            "\u001b[2K     \u001b[90m━━━━━━━━━━━━━━━━━━━━━━━━━━━━━━━━━━━━━━━━\u001b[0m \u001b[32m1.6/1.6 MB\u001b[0m \u001b[31m21.6 MB/s\u001b[0m eta \u001b[36m0:00:00\u001b[0m\n",
            "\u001b[?25h"
          ]
        }
      ]
    },
    {
      "cell_type": "code",
      "source": [
        "import keras_tuner as kt"
      ],
      "metadata": {
        "id": "Y5SXfmditg9P"
      },
      "execution_count": null,
      "outputs": []
    },
    {
      "cell_type": "code",
      "source": [
        "(img_train, label_train), (img_test, label_test) = fashion_mnist.load_data()"
      ],
      "metadata": {
        "id": "VaKCjDe4NcEM",
        "colab": {
          "base_uri": "https://localhost:8080/"
        },
        "outputId": "1074dfeb-254c-45af-a4be-2c8aed1ab4d7"
      },
      "execution_count": null,
      "outputs": [
        {
          "output_type": "stream",
          "name": "stdout",
          "text": [
            "Downloading data from https://storage.googleapis.com/tensorflow/tf-keras-datasets/train-labels-idx1-ubyte.gz\n",
            "29515/29515 [==============================] - 0s 0us/step\n",
            "Downloading data from https://storage.googleapis.com/tensorflow/tf-keras-datasets/train-images-idx3-ubyte.gz\n",
            "26421880/26421880 [==============================] - 0s 0us/step\n",
            "Downloading data from https://storage.googleapis.com/tensorflow/tf-keras-datasets/t10k-labels-idx1-ubyte.gz\n",
            "5148/5148 [==============================] - 0s 0us/step\n",
            "Downloading data from https://storage.googleapis.com/tensorflow/tf-keras-datasets/t10k-images-idx3-ubyte.gz\n",
            "4422102/4422102 [==============================] - 0s 0us/step\n"
          ]
        }
      ]
    },
    {
      "cell_type": "markdown",
      "source": [
        "# Normalizing the data"
      ],
      "metadata": {
        "id": "59a9s3fSHrVb"
      }
    },
    {
      "cell_type": "code",
      "source": [
        "# Normalize pixel values between 0 and 1\n",
        "img_train = img_train.astype('float32') / 255.0\n",
        "img_test = img_test.astype('float32') / 255.0\n"
      ],
      "metadata": {
        "id": "_hUAgGe5UBrv"
      },
      "execution_count": null,
      "outputs": []
    },
    {
      "cell_type": "code",
      "source": [
        "assert img_train.shape == (60000, 28, 28)\n",
        "assert img_test.shape == (10000, 28, 28)\n",
        "assert label_train.shape == (60000,)\n",
        "assert label_test.shape == (10000,)"
      ],
      "metadata": {
        "id": "TR4auIg81-6p"
      },
      "execution_count": null,
      "outputs": []
    },
    {
      "cell_type": "markdown",
      "source": [
        "# Encoding the output dataset"
      ],
      "metadata": {
        "id": "o6nAN3LjHw_m"
      }
    },
    {
      "cell_type": "code",
      "source": [
        "# One hot encode the output data\n",
        "y_train_cat = keras.utils.to_categorical(img_train, 10)\n",
        "y_test_cat = keras.utils.to_categorical(img_test, 10)"
      ],
      "metadata": {
        "id": "rIJIMVUhUP8C"
      },
      "execution_count": null,
      "outputs": []
    },
    {
      "cell_type": "markdown",
      "source": [
        "Show some samples of the dataset"
      ],
      "metadata": {
        "id": "EePuM9beNyNI"
      }
    },
    {
      "cell_type": "code",
      "source": [
        "def plotImages(images_arr):\n",
        "  fig, axes = plt.subplots(1, 10, figsize = (20, 20))\n",
        "  axes = axes.flatten()\n",
        "  for img, ax in zip(images_arr, axes):\n",
        "    ax.imshow(img)\n",
        "    ax.axis('off')\n",
        "  plt.tight_layout()\n",
        "  plt.show()\n"
      ],
      "metadata": {
        "id": "QPepysiWNriW"
      },
      "execution_count": null,
      "outputs": []
    },
    {
      "cell_type": "code",
      "source": [
        "plotImages(img_train [:50])"
      ],
      "metadata": {
        "colab": {
          "base_uri": "https://localhost:8080/",
          "height": 163
        },
        "id": "NZe0BwshV7KQ",
        "outputId": "f991371f-63e2-42c5-fd82-ef8d1d84afd5"
      },
      "execution_count": null,
      "outputs": [
        {
          "output_type": "display_data",
          "data": {
            "text/plain": [
              "<Figure size 1440x1440 with 10 Axes>"
            ],
            "image/png": "[encoded data removed]"
          },
          "metadata": {
            "needs_background": "light"
          }
        }
      ]
    },
    {
      "cell_type": "markdown",
      "source": [
        "# Building the Keras Auto Model"
      ],
      "metadata": {
        "id": "egQ_jxz5UMvl"
      }
    },
    {
      "cell_type": "code",
      "source": [
        "def build_model(hp):\n",
        "  model5 = keras.Sequential()\n",
        "  model5.add(keras.layers.Flatten(input_shape=(28, 28)))\n",
        "\n",
        "  #T\n",
        "  #Choose\n",
        "  hp_units=hp.Int(\"units\", min_value=32, max_value=512, step=32)\n",
        "  model5.add(keras.layers.Dense(units=hp_units, activation='relu'))\n",
        "  model5.add(keras.layers.Dense(10))\n",
        "\n",
        "  #\n",
        "  #\n",
        "  hp_learning_rate = hp.Choice('learning_rate', values=[1e-2, 1e-3, 1e-4])\n",
        "\n",
        "  model5.compile(optimizer=keras.optimizers.Adam(learning_rate=hp_learning_rate),\n",
        "                loss=keras.losses.SparseCategoricalCrossentropy(from_logits=True),\n",
        "                metrics=['accuracy'])\n",
        "  return model5\n",
        "  "
      ],
      "metadata": {
        "id": "utGtgsZkUDZO"
      },
      "execution_count": null,
      "outputs": []
    },
    {
      "cell_type": "code",
      "source": [
        "tuner = kt.Hyperband(build_model,\n",
        "                     objective='val_accuracy',\n",
        "                     max_epochs=10,\n",
        "                    #  factors=3,\n",
        "                     directory='my_dir',\n",
        "                     project_name='intro_to_kt')\n"
      ],
      "metadata": {
        "id": "89q1Ydb5lGKv"
      },
      "execution_count": null,
      "outputs": []
    },
    {
      "cell_type": "code",
      "source": [
        "# model5.summary()"
      ],
      "metadata": {
        "id": "nEzCLMqYWIyJ"
      },
      "execution_count": null,
      "outputs": []
    },
    {
      "cell_type": "code",
      "source": [
        "tuner.search(img_train, label_train,epochs=60, validation_split=0.2)"
      ],
      "metadata": {
        "id": "42-Xzh1tnhBh",
        "colab": {
          "base_uri": "https://localhost:8080/"
        },
        "outputId": "feb8ebd4-e8f0-458f-f3d7-5cce9afe0844"
      },
      "execution_count": null,
      "outputs": [
        {
          "output_type": "stream",
          "name": "stdout",
          "text": [
            "Trial 30 Complete [00h 00m 42s]\n",
            "val_accuracy: 0.8627499938011169\n",
            "\n",
            "Best val_accuracy So Far: 0.8944166898727417\n",
            "Total elapsed time: 00h 13m 42s\n"
          ]
        }
      ]
    },
    {
      "cell_type": "code",
      "source": [
        "# Get the best hyperparameters.\n",
        "best_hps = tuner.get_best_hyperparameters(num_trials=1)[0]\n"
      ],
      "metadata": {
        "id": "zUBInjDYnzgz"
      },
      "execution_count": null,
      "outputs": []
    },
    {
      "cell_type": "code",
      "source": [
        "# Build the model with the best hp.\n",
        "model = tuner.hypermodel.build(best_hps)\n",
        "history=model.fit(img_train, label_train,epochs=60, validation_split=0.2)"
      ],
      "metadata": {
        "colab": {
          "base_uri": "https://localhost:8080/"
        },
        "id": "oZte6mpzqFVX",
        "outputId": "22dd459d-20ce-43eb-92fe-dc847a4ee018"
      },
      "execution_count": null,
      "outputs": [
        {
          "output_type": "stream",
          "name": "stdout",
          "text": [
            "Epoch 1/60\n",
            "1500/1500 [==============================] - 6s 4ms/step - loss: 0.5097 - accuracy: 0.8198 - val_loss: 0.3908 - val_accuracy: 0.8617\n",
            "Epoch 2/60\n",
            "1500/1500 [==============================] - 5s 3ms/step - loss: 0.3800 - accuracy: 0.8628 - val_loss: 0.3599 - val_accuracy: 0.8689\n",
            "Epoch 3/60\n",
            "1500/1500 [==============================] - 6s 4ms/step - loss: 0.3398 - accuracy: 0.8769 - val_loss: 0.3377 - val_accuracy: 0.8788\n",
            "Epoch 4/60\n",
            "1500/1500 [==============================] - 5s 3ms/step - loss: 0.3118 - accuracy: 0.8849 - val_loss: 0.3496 - val_accuracy: 0.8781\n",
            "Epoch 5/60\n",
            "1500/1500 [==============================] - 6s 4ms/step - loss: 0.2920 - accuracy: 0.8914 - val_loss: 0.3189 - val_accuracy: 0.8837\n",
            "Epoch 6/60\n",
            "1500/1500 [==============================] - 6s 4ms/step - loss: 0.2755 - accuracy: 0.8973 - val_loss: 0.3459 - val_accuracy: 0.8733\n",
            "Epoch 7/60\n",
            "1500/1500 [==============================] - 6s 4ms/step - loss: 0.2631 - accuracy: 0.9021 - val_loss: 0.3531 - val_accuracy: 0.8740\n",
            "Epoch 8/60\n",
            "1500/1500 [==============================] - 5s 3ms/step - loss: 0.2498 - accuracy: 0.9073 - val_loss: 0.3287 - val_accuracy: 0.8839\n",
            "Epoch 9/60\n",
            "1500/1500 [==============================] - 5s 3ms/step - loss: 0.2384 - accuracy: 0.9118 - val_loss: 0.3127 - val_accuracy: 0.8886\n",
            "Epoch 10/60\n",
            "1500/1500 [==============================] - 6s 4ms/step - loss: 0.2286 - accuracy: 0.9141 - val_loss: 0.3160 - val_accuracy: 0.8880\n",
            "Epoch 11/60\n",
            "1500/1500 [==============================] - 5s 3ms/step - loss: 0.2196 - accuracy: 0.9164 - val_loss: 0.3211 - val_accuracy: 0.8885\n",
            "Epoch 12/60\n",
            "1500/1500 [==============================] - 6s 4ms/step - loss: 0.2110 - accuracy: 0.9205 - val_loss: 0.3098 - val_accuracy: 0.8922\n",
            "Epoch 13/60\n",
            "1500/1500 [==============================] - 5s 3ms/step - loss: 0.2047 - accuracy: 0.9226 - val_loss: 0.3226 - val_accuracy: 0.8907\n",
            "Epoch 14/60\n",
            "1500/1500 [==============================] - 5s 4ms/step - loss: 0.1953 - accuracy: 0.9261 - val_loss: 0.3271 - val_accuracy: 0.8920\n",
            "Epoch 15/60\n",
            "1500/1500 [==============================] - 5s 3ms/step - loss: 0.1923 - accuracy: 0.9267 - val_loss: 0.3388 - val_accuracy: 0.8849\n",
            "Epoch 16/60\n",
            "1500/1500 [==============================] - 6s 4ms/step - loss: 0.1833 - accuracy: 0.9314 - val_loss: 0.3323 - val_accuracy: 0.8907\n",
            "Epoch 17/60\n",
            "1500/1500 [==============================] - 5s 3ms/step - loss: 0.1766 - accuracy: 0.9342 - val_loss: 0.3545 - val_accuracy: 0.8868\n",
            "Epoch 18/60\n",
            "1500/1500 [==============================] - 6s 4ms/step - loss: 0.1727 - accuracy: 0.9344 - val_loss: 0.3526 - val_accuracy: 0.8912\n",
            "Epoch 19/60\n",
            "1500/1500 [==============================] - 6s 4ms/step - loss: 0.1679 - accuracy: 0.9370 - val_loss: 0.3596 - val_accuracy: 0.8867\n",
            "Epoch 20/60\n",
            "1500/1500 [==============================] - 5s 3ms/step - loss: 0.1615 - accuracy: 0.9401 - val_loss: 0.3496 - val_accuracy: 0.8926\n",
            "Epoch 21/60\n",
            "1500/1500 [==============================] - 6s 4ms/step - loss: 0.1577 - accuracy: 0.9415 - val_loss: 0.3766 - val_accuracy: 0.8888\n",
            "Epoch 22/60\n",
            "1500/1500 [==============================] - 5s 3ms/step - loss: 0.1535 - accuracy: 0.9427 - val_loss: 0.3722 - val_accuracy: 0.8897\n",
            "Epoch 23/60\n",
            "1500/1500 [==============================] - 6s 4ms/step - loss: 0.1497 - accuracy: 0.9448 - val_loss: 0.3639 - val_accuracy: 0.8935\n",
            "Epoch 24/60\n",
            "1500/1500 [==============================] - 5s 3ms/step - loss: 0.1446 - accuracy: 0.9462 - val_loss: 0.3554 - val_accuracy: 0.8933\n",
            "Epoch 25/60\n",
            "1500/1500 [==============================] - 6s 4ms/step - loss: 0.1395 - accuracy: 0.9478 - val_loss: 0.3540 - val_accuracy: 0.8925\n",
            "Epoch 26/60\n",
            "1500/1500 [==============================] - 5s 3ms/step - loss: 0.1371 - accuracy: 0.9486 - val_loss: 0.3724 - val_accuracy: 0.8890\n",
            "Epoch 27/60\n",
            "1500/1500 [==============================] - 5s 3ms/step - loss: 0.1320 - accuracy: 0.9502 - val_loss: 0.3753 - val_accuracy: 0.8928\n",
            "Epoch 28/60\n",
            "1500/1500 [==============================] - 6s 4ms/step - loss: 0.1279 - accuracy: 0.9528 - val_loss: 0.3803 - val_accuracy: 0.8950\n",
            "Epoch 29/60\n",
            "1500/1500 [==============================] - 5s 3ms/step - loss: 0.1257 - accuracy: 0.9523 - val_loss: 0.3795 - val_accuracy: 0.8922\n",
            "Epoch 30/60\n",
            "1500/1500 [==============================] - 6s 4ms/step - loss: 0.1235 - accuracy: 0.9532 - val_loss: 0.3818 - val_accuracy: 0.8965\n",
            "Epoch 31/60\n",
            "1500/1500 [==============================] - 6s 4ms/step - loss: 0.1193 - accuracy: 0.9560 - val_loss: 0.4065 - val_accuracy: 0.8928\n",
            "Epoch 32/60\n",
            "1500/1500 [==============================] - 6s 4ms/step - loss: 0.1155 - accuracy: 0.9574 - val_loss: 0.3980 - val_accuracy: 0.8968\n",
            "Epoch 33/60\n",
            "1500/1500 [==============================] - 5s 3ms/step - loss: 0.1147 - accuracy: 0.9570 - val_loss: 0.4162 - val_accuracy: 0.8927\n",
            "Epoch 34/60\n",
            "1500/1500 [==============================] - 6s 4ms/step - loss: 0.1119 - accuracy: 0.9586 - val_loss: 0.4295 - val_accuracy: 0.8879\n",
            "Epoch 35/60\n",
            "1500/1500 [==============================] - 5s 3ms/step - loss: 0.1091 - accuracy: 0.9583 - val_loss: 0.4318 - val_accuracy: 0.8928\n",
            "Epoch 36/60\n",
            "1500/1500 [==============================] - 6s 4ms/step - loss: 0.1053 - accuracy: 0.9603 - val_loss: 0.4387 - val_accuracy: 0.8940\n",
            "Epoch 37/60\n",
            "1500/1500 [==============================] - 6s 4ms/step - loss: 0.1054 - accuracy: 0.9600 - val_loss: 0.4415 - val_accuracy: 0.8898\n",
            "Epoch 38/60\n",
            "1500/1500 [==============================] - 5s 3ms/step - loss: 0.0997 - accuracy: 0.9630 - val_loss: 0.4788 - val_accuracy: 0.8942\n",
            "Epoch 39/60\n",
            "1500/1500 [==============================] - 6s 4ms/step - loss: 0.1011 - accuracy: 0.9621 - val_loss: 0.4462 - val_accuracy: 0.8942\n",
            "Epoch 40/60\n",
            "1500/1500 [==============================] - 5s 3ms/step - loss: 0.0959 - accuracy: 0.9638 - val_loss: 0.4805 - val_accuracy: 0.8914\n",
            "Epoch 41/60\n",
            "1500/1500 [==============================] - 6s 4ms/step - loss: 0.0970 - accuracy: 0.9639 - val_loss: 0.4582 - val_accuracy: 0.8938\n",
            "Epoch 42/60\n",
            "1500/1500 [==============================] - 5s 3ms/step - loss: 0.0951 - accuracy: 0.9647 - val_loss: 0.4828 - val_accuracy: 0.8915\n",
            "Epoch 43/60\n",
            "1500/1500 [==============================] - 7s 4ms/step - loss: 0.0902 - accuracy: 0.9658 - val_loss: 0.4867 - val_accuracy: 0.8908\n",
            "Epoch 44/60\n",
            "1500/1500 [==============================] - 5s 3ms/step - loss: 0.0887 - accuracy: 0.9664 - val_loss: 0.5016 - val_accuracy: 0.8933\n",
            "Epoch 45/60\n",
            "1500/1500 [==============================] - 5s 3ms/step - loss: 0.0894 - accuracy: 0.9669 - val_loss: 0.4833 - val_accuracy: 0.8922\n",
            "Epoch 46/60\n",
            "1500/1500 [==============================] - 6s 4ms/step - loss: 0.0829 - accuracy: 0.9684 - val_loss: 0.4912 - val_accuracy: 0.8912\n",
            "Epoch 47/60\n",
            "1500/1500 [==============================] - 5s 3ms/step - loss: 0.0846 - accuracy: 0.9688 - val_loss: 0.4845 - val_accuracy: 0.8899\n",
            "Epoch 48/60\n",
            "1500/1500 [==============================] - 5s 4ms/step - loss: 0.0813 - accuracy: 0.9697 - val_loss: 0.4826 - val_accuracy: 0.8942\n",
            "Epoch 49/60\n",
            "1500/1500 [==============================] - 6s 4ms/step - loss: 0.0811 - accuracy: 0.9708 - val_loss: 0.5200 - val_accuracy: 0.8922\n",
            "Epoch 50/60\n",
            "1500/1500 [==============================] - 6s 4ms/step - loss: 0.0777 - accuracy: 0.9709 - val_loss: 0.5273 - val_accuracy: 0.8907\n",
            "Epoch 51/60\n",
            "1500/1500 [==============================] - 5s 3ms/step - loss: 0.0794 - accuracy: 0.9703 - val_loss: 0.4999 - val_accuracy: 0.8965\n",
            "Epoch 52/60\n",
            "1500/1500 [==============================] - 6s 4ms/step - loss: 0.0755 - accuracy: 0.9721 - val_loss: 0.5246 - val_accuracy: 0.8942\n",
            "Epoch 53/60\n",
            "1500/1500 [==============================] - 5s 3ms/step - loss: 0.0787 - accuracy: 0.9706 - val_loss: 0.5059 - val_accuracy: 0.8939\n",
            "Epoch 54/60\n",
            "1500/1500 [==============================] - 5s 3ms/step - loss: 0.0716 - accuracy: 0.9736 - val_loss: 0.5140 - val_accuracy: 0.8913\n",
            "Epoch 55/60\n",
            "1500/1500 [==============================] - 6s 4ms/step - loss: 0.0715 - accuracy: 0.9723 - val_loss: 0.5708 - val_accuracy: 0.8912\n",
            "Epoch 56/60\n",
            "1500/1500 [==============================] - 5s 3ms/step - loss: 0.0696 - accuracy: 0.9742 - val_loss: 0.5784 - val_accuracy: 0.8872\n",
            "Epoch 57/60\n",
            "1500/1500 [==============================] - 6s 4ms/step - loss: 0.0692 - accuracy: 0.9740 - val_loss: 0.5708 - val_accuracy: 0.8880\n",
            "Epoch 58/60\n",
            "1500/1500 [==============================] - 5s 3ms/step - loss: 0.0666 - accuracy: 0.9749 - val_loss: 0.5621 - val_accuracy: 0.8892\n",
            "Epoch 59/60\n",
            "1500/1500 [==============================] - 6s 4ms/step - loss: 0.0668 - accuracy: 0.9761 - val_loss: 0.5925 - val_accuracy: 0.8877\n",
            "Epoch 60/60\n",
            "1500/1500 [==============================] - 5s 3ms/step - loss: 0.0674 - accuracy: 0.9749 - val_loss: 0.5961 - val_accuracy: 0.8896\n"
          ]
        }
      ]
    },
    {
      "cell_type": "code",
      "source": [
        "# summarize the history for accuracy\n",
        "plt.plot(history.history['accuracy'])\n",
        "plt.plot(history.history['val_accuracy'])\n",
        "plt.title('Model5 Autotuner accuracy')\n",
        "plt.ylabel('accuracy')\n",
        "plt.xlabel('epoch')\n",
        "plt.legend(['train','test'], loc='upper left')\n",
        "plt.show()\n",
        "\n",
        "# summarize the history for loss\n",
        "plt.plot(history.history['loss'])\n",
        "plt.plot(history.history['val_loss'])\n",
        "plt.title('Model5 Autotuner loss')\n",
        "plt.ylabel('loss')\n",
        "plt.xlabel('epoch')\n",
        "plt.legend(['train','test'], loc='upper left')\n",
        "plt.show()"
      ],
      "metadata": {
        "id": "awPZhmN3rC8p",
        "colab": {
          "base_uri": "https://localhost:8080/",
          "height": 573
        },
        "outputId": "69d68946-3701-472e-ef3e-08d1d5516b2d"
      },
      "execution_count": null,
      "outputs": [
        {
          "output_type": "display_data",
          "data": {
            "text/plain": [
              "<Figure size 432x288 with 1 Axes>"
            ],
            "image/png": "[encoded data removed]"
          },
          "metadata": {
            "needs_background": "light"
          }
        },
        {
          "output_type": "display_data",
          "data": {
            "text/plain": [
              "<Figure size 432x288 with 1 Axes>"
            ],
            "image/png": "[encoded data removed]"
          },
          "metadata": {
            "needs_background": "light"
          }
        }
      ]
    },
    {
      "cell_type": "code",
      "source": [
        "evaluation = model.evaluate(img_test, label_test)\n",
        "print('[test loss, test accuracy]:', evaluation)"
      ],
      "metadata": {
        "id": "T-ys9b8YstA4",
        "colab": {
          "base_uri": "https://localhost:8080/"
        },
        "outputId": "f19e5dc6-dd18-4b4c-b99b-84283b408006"
      },
      "execution_count": null,
      "outputs": [
        {
          "output_type": "stream",
          "name": "stdout",
          "text": [
            "313/313 [==============================] - 1s 2ms/step - loss: 0.6523 - accuracy: 0.8847\n",
            "[test loss, test accuracy]: [0.6522889733314514, 0.8847000002861023]\n"
          ]
        }
      ]
    },
    {
      "cell_type": "markdown",
      "source": [
        "## Predictions"
      ],
      "metadata": {
        "id": "VH30YRC8tbCJ"
      }
    },
    {
      "cell_type": "code",
      "source": [
        "plotImages(img_test[:20])"
      ],
      "metadata": {
        "id": "vTns27EqteQ-",
        "colab": {
          "base_uri": "https://localhost:8080/"
        },
        "outputId": "3d0a8688-bb68-424a-8686-d3e71d88dfce"
      },
      "execution_count": null,
      "outputs": [
        {
          "output_type": "display_data",
          "data": {
            "text/plain": [
              "<Figure size 1440x1440 with 10 Axes>"
            ],
            "image/png": "[encoded data removed]"
          },
          "metadata": {
            "needs_background": "light"
          }
        }
      ]
    },
    {
      "cell_type": "code",
      "source": [
        "predictions=np.argmax(model.predict(img_test[:10]),axis=-1)\n",
        "print(predictions)"
      ],
      "metadata": {
        "id": "9RoCltxHtvlV",
        "colab": {
          "base_uri": "https://localhost:8080/"
        },
        "outputId": "57e8e404-360b-426d-e530-870e3496a115"
      },
      "execution_count": null,
      "outputs": [
        {
          "output_type": "stream",
          "name": "stdout",
          "text": [
            "1/1 [==============================] - 0s 91ms/step\n",
            "[9 2 1 1 6 1 4 6 5 7]\n"
          ]
        }
      ]
    }
  ]
}