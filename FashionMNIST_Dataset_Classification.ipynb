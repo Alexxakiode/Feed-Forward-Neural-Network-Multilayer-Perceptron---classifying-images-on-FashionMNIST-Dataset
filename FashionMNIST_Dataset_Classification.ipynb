{
  "nbformat": 4,
  "nbformat_minor": 0,
  "metadata": {
    "colab": {
      "provenance": [],
      "include_colab_link": true
    },
    "kernelspec": {
      "name": "python3",
      "display_name": "Python 3"
    },
    "accelerator": "GPU",
    "gpuClass": "standard"
  },
  "cells": [
    {
      "cell_type": "markdown",
      "metadata": {
        "id": "view-in-github",
        "colab_type": "text"
      },
      "source": [
        "<a href=\"https://colab.research.google.com/github/Alexxakiode/Feed-Forward-Neural-Network-Multilayer-Perceptron---classifying-images-on-FashionMNIST-Dataset/blob/main/FashionMNIST_Dataset_Classification.ipynb\" target=\"_parent\"><img src=\"https://colab.research.google.com/assets/colab-badge.svg\" alt=\"Open In Colab\"/></a>"
      ]
    },
    {
      "cell_type": "markdown",
      "metadata": {
        "id": "UiXM_QnXgGgH"
      },
      "source": [
        "#  Assessment 1 using FashionMNIST Dataset"
      ]
    },
    {
      "cell_type": "markdown",
      "source": [
        "# Library imports"
      ],
      "metadata": {
        "id": "3M8B1MUdHFXC"
      }
    },
    {
      "cell_type": "code",
      "metadata": {
        "id": "A3jOpq8efmdo"
      },
      "source": [
        "# Import the pandas library for data exploration\n",
        "import pandas as pd\n",
        "import numpy as np\n",
        "from google.colab import files\n",
        "\n",
        "import cv2\n",
        "import tensorflow as tf\n",
        "import keras\n",
        "import seaborn as sns\n",
        "import os\n",
        "\n",
        "\n",
        "from tensorflow import keras\n",
        "from IPython.display import display\n",
        "from tensorflow.keras import utils\n",
        "from keras import layers\n",
        "from keras import Sequential\n",
        "from keras.layers import Dense, Dropout\n",
        "from tensorflow.keras import regularizers\n",
        "\n",
        "# plot the history of the training\n",
        "import matplotlib.pyplot as plt\n",
        "\n",
        "# split the data into train and test\n",
        "from sklearn.model_selection import train_test_split\n",
        "\n",
        "# Normalizer library \n",
        "from sklearn.preprocessing import normalize\n",
        "\n",
        "# Other libraries\n",
        "import matplotlib.image as mpimg\n",
        "from tensorflow.keras.preprocessing.image import ImageDataGenerator\n",
        "from tensorflow.keras.preprocessing import image\n",
        "import random\n",
        "from tensorflow.keras.preprocessing.image import img_to_array, load_img\n",
        "\n",
        "RANDOM_SEED=100\n",
        "seed =RANDOM_SEED\n"
      ],
      "execution_count": null,
      "outputs": []
    },
    {
      "cell_type": "markdown",
      "metadata": {
        "id": "HdFwU3T1gTQo"
      },
      "source": [
        "# FashionMNIST Dataset loading"
      ]
    },
    {
      "cell_type": "code",
      "source": [
        "# Import fashion_mnist module\n",
        "#from keras import fashion_mnist\n",
        "from keras.datasets import fashion_mnist"
      ],
      "metadata": {
        "id": "108Q1n_-wTQl"
      },
      "execution_count": null,
      "outputs": []
    },
    {
      "cell_type": "markdown",
      "source": [
        "# Defining the data\n",
        "\n",
        "Note that FashionMNIST dataset has been splitted already"
      ],
      "metadata": {
        "id": "2Z6gWkUhHeDH"
      }
    },
    {
      "cell_type": "code",
      "source": [
        "#Fashion-MNIST Dataset \n",
        "(x_train, y_train), (x_test, y_test) = fashion_mnist.load_data()"
      ],
      "metadata": {
        "id": "JIHa4zpcv8F2",
        "colab": {
          "base_uri": "https://localhost:8080/"
        },
        "outputId": "cc567488-75a3-4d81-ea36-d8cfea69d324"
      },
      "execution_count": null,
      "outputs": [
        {
          "output_type": "stream",
          "name": "stdout",
          "text": [
            "Downloading data from https://storage.googleapis.com/tensorflow/tf-keras-datasets/train-labels-idx1-ubyte.gz\n",
            "29515/29515 [==============================] - 0s 0us/step\n",
            "Downloading data from https://storage.googleapis.com/tensorflow/tf-keras-datasets/train-images-idx3-ubyte.gz\n",
            "26421880/26421880 [==============================] - 1s 0us/step\n",
            "Downloading data from https://storage.googleapis.com/tensorflow/tf-keras-datasets/t10k-labels-idx1-ubyte.gz\n",
            "5148/5148 [==============================] - 0s 0us/step\n",
            "Downloading data from https://storage.googleapis.com/tensorflow/tf-keras-datasets/t10k-images-idx3-ubyte.gz\n",
            "4422102/4422102 [==============================] - 0s 0us/step\n"
          ]
        }
      ]
    },
    {
      "cell_type": "markdown",
      "source": [
        "# Normalizing the data"
      ],
      "metadata": {
        "id": "59a9s3fSHrVb"
      }
    },
    {
      "cell_type": "code",
      "source": [
        "# Normalize pixel values between 0 and 1\n",
        "x_train = x_train.astype('float32') / 255.0\n",
        "x_test = x_test.astype('float32') / 255.0"
      ],
      "metadata": {
        "id": "_hUAgGe5UBrv"
      },
      "execution_count": null,
      "outputs": []
    },
    {
      "cell_type": "code",
      "source": [
        "assert x_train.shape == (60000, 28, 28)\n",
        "assert x_test.shape == (10000, 28, 28)\n",
        "assert y_train.shape == (60000,)\n",
        "assert y_test.shape == (10000,)"
      ],
      "metadata": {
        "id": "TR4auIg81-6p"
      },
      "execution_count": null,
      "outputs": []
    },
    {
      "cell_type": "markdown",
      "source": [
        "# Encoding the output dataset"
      ],
      "metadata": {
        "id": "o6nAN3LjHw_m"
      }
    },
    {
      "cell_type": "code",
      "source": [
        "# One hot encode the output data\n",
        "y_train_cat = keras.utils.to_categorical(y_train, 10)\n",
        "y_test_cat = keras.utils.to_categorical(y_test, 10)"
      ],
      "metadata": {
        "id": "rIJIMVUhUP8C"
      },
      "execution_count": null,
      "outputs": []
    },
    {
      "cell_type": "markdown",
      "source": [
        "# Data visualisation"
      ],
      "metadata": {
        "id": "yJRaafqoHU4x"
      }
    },
    {
      "cell_type": "code",
      "source": [
        "def plotImages(images_arr):\n",
        "  fig, axes = plt.subplots(1, 10, figsize = (20, 20))\n",
        "  axes = axes.flatten()\n",
        "  for img, ax in zip(images_arr, axes):\n",
        "    ax.imshow(img)\n",
        "    ax.axis('off')\n",
        "  plt.tight_layout()\n",
        "  plt.show()\n"
      ],
      "metadata": {
        "id": "QsJbEtY0qVBR"
      },
      "execution_count": null,
      "outputs": []
    },
    {
      "cell_type": "code",
      "source": [
        "plotImages(x_train [:10])"
      ],
      "metadata": {
        "colab": {
          "base_uri": "https://localhost:8080/",
          "height": 163
        },
        "id": "TKmJzrVirPkL",
        "outputId": "1b5c25a5-39e1-4bd5-defc-c379578518b3"
      },
      "execution_count": null,
      "outputs": [
        {
          "output_type": "display_data",
          "data": {
            "text/plain": [
              "<Figure size 1440x1440 with 10 Axes>"
            ],
            "image/png": "[encoded data removed]"
          },
          "metadata": {
            "needs_background": "light"
          }
        }
      ]
    },
    {
      "cell_type": "code",
      "source": [
        "#Viewing the data array\n",
        "data = fashion_mnist.load_data()\n",
        "data"
      ],
      "metadata": {
        "colab": {
          "base_uri": "https://localhost:8080/"
        },
        "id": "4efEbkoF4ksq",
        "outputId": "8b3853a4-bfcc-4df7-884f-b914420a7da5"
      },
      "execution_count": null,
      "outputs": [
        {
          "output_type": "execute_result",
          "data": {
            "text/plain": [
              "((array([[[0, 0, 0, ..., 0, 0, 0],\n",
              "          [0, 0, 0, ..., 0, 0, 0],\n",
              "          [0, 0, 0, ..., 0, 0, 0],\n",
              "          ...,\n",
              "          [0, 0, 0, ..., 0, 0, 0],\n",
              "          [0, 0, 0, ..., 0, 0, 0],\n",
              "          [0, 0, 0, ..., 0, 0, 0]],\n",
              "  \n",
              "         [[0, 0, 0, ..., 0, 0, 0],\n",
              "          [0, 0, 0, ..., 0, 0, 0],\n",
              "          [0, 0, 0, ..., 0, 0, 0],\n",
              "          ...,\n",
              "          [0, 0, 0, ..., 0, 0, 0],\n",
              "          [0, 0, 0, ..., 0, 0, 0],\n",
              "          [0, 0, 0, ..., 0, 0, 0]],\n",
              "  \n",
              "         [[0, 0, 0, ..., 0, 0, 0],\n",
              "          [0, 0, 0, ..., 0, 0, 0],\n",
              "          [0, 0, 0, ..., 0, 0, 0],\n",
              "          ...,\n",
              "          [0, 0, 0, ..., 0, 0, 0],\n",
              "          [0, 0, 0, ..., 0, 0, 0],\n",
              "          [0, 0, 0, ..., 0, 0, 0]],\n",
              "  \n",
              "         ...,\n",
              "  \n",
              "         [[0, 0, 0, ..., 0, 0, 0],\n",
              "          [0, 0, 0, ..., 0, 0, 0],\n",
              "          [0, 0, 0, ..., 0, 0, 0],\n",
              "          ...,\n",
              "          [0, 0, 0, ..., 0, 0, 0],\n",
              "          [0, 0, 0, ..., 0, 0, 0],\n",
              "          [0, 0, 0, ..., 0, 0, 0]],\n",
              "  \n",
              "         [[0, 0, 0, ..., 0, 0, 0],\n",
              "          [0, 0, 0, ..., 0, 0, 0],\n",
              "          [0, 0, 0, ..., 0, 0, 0],\n",
              "          ...,\n",
              "          [0, 0, 0, ..., 0, 0, 0],\n",
              "          [0, 0, 0, ..., 0, 0, 0],\n",
              "          [0, 0, 0, ..., 0, 0, 0]],\n",
              "  \n",
              "         [[0, 0, 0, ..., 0, 0, 0],\n",
              "          [0, 0, 0, ..., 0, 0, 0],\n",
              "          [0, 0, 0, ..., 0, 0, 0],\n",
              "          ...,\n",
              "          [0, 0, 0, ..., 0, 0, 0],\n",
              "          [0, 0, 0, ..., 0, 0, 0],\n",
              "          [0, 0, 0, ..., 0, 0, 0]]], dtype=uint8),\n",
              "  array([9, 0, 0, ..., 3, 0, 5], dtype=uint8)),\n",
              " (array([[[0, 0, 0, ..., 0, 0, 0],\n",
              "          [0, 0, 0, ..., 0, 0, 0],\n",
              "          [0, 0, 0, ..., 0, 0, 0],\n",
              "          ...,\n",
              "          [0, 0, 0, ..., 0, 0, 0],\n",
              "          [0, 0, 0, ..., 0, 0, 0],\n",
              "          [0, 0, 0, ..., 0, 0, 0]],\n",
              "  \n",
              "         [[0, 0, 0, ..., 0, 0, 0],\n",
              "          [0, 0, 0, ..., 0, 0, 0],\n",
              "          [0, 0, 0, ..., 0, 0, 0],\n",
              "          ...,\n",
              "          [0, 0, 0, ..., 0, 0, 0],\n",
              "          [0, 0, 0, ..., 0, 0, 0],\n",
              "          [0, 0, 0, ..., 0, 0, 0]],\n",
              "  \n",
              "         [[0, 0, 0, ..., 0, 0, 0],\n",
              "          [0, 0, 0, ..., 0, 0, 0],\n",
              "          [0, 0, 0, ..., 0, 0, 0],\n",
              "          ...,\n",
              "          [0, 0, 0, ..., 0, 0, 0],\n",
              "          [0, 0, 0, ..., 0, 0, 0],\n",
              "          [0, 0, 0, ..., 0, 0, 0]],\n",
              "  \n",
              "         ...,\n",
              "  \n",
              "         [[0, 0, 0, ..., 0, 0, 0],\n",
              "          [0, 0, 0, ..., 0, 0, 0],\n",
              "          [0, 0, 0, ..., 0, 0, 0],\n",
              "          ...,\n",
              "          [0, 0, 0, ..., 0, 0, 0],\n",
              "          [0, 0, 0, ..., 0, 0, 0],\n",
              "          [0, 0, 0, ..., 0, 0, 0]],\n",
              "  \n",
              "         [[0, 0, 0, ..., 0, 0, 0],\n",
              "          [0, 0, 0, ..., 0, 0, 0],\n",
              "          [0, 0, 0, ..., 0, 0, 0],\n",
              "          ...,\n",
              "          [0, 0, 0, ..., 0, 0, 0],\n",
              "          [0, 0, 0, ..., 0, 0, 0],\n",
              "          [0, 0, 0, ..., 0, 0, 0]],\n",
              "  \n",
              "         [[0, 0, 0, ..., 0, 0, 0],\n",
              "          [0, 0, 0, ..., 0, 0, 0],\n",
              "          [0, 0, 0, ..., 0, 0, 0],\n",
              "          ...,\n",
              "          [0, 0, 0, ..., 0, 0, 0],\n",
              "          [0, 0, 0, ..., 0, 0, 0],\n",
              "          [0, 0, 0, ..., 0, 0, 0]]], dtype=uint8),\n",
              "  array([9, 2, 1, ..., 8, 1, 5], dtype=uint8)))"
            ]
          },
          "metadata": {},
          "execution_count": 9
        }
      ]
    },
    {
      "cell_type": "markdown",
      "source": [
        "# Create, compile and fit model with original FashionMNIST data only"
      ],
      "metadata": {
        "id": "0TkbARMZH3Ao"
      }
    },
    {
      "cell_type": "markdown",
      "source": [
        "# Model 4\n",
        "\n",
        "LR = 0.00001\n",
        "\n",
        "Ridge Regularizer L2 at 0.001\n",
        "\n",
        "Optimizer: Adam\n",
        "\n",
        "Activation: Relu, Relu, Softmax\n",
        "\n",
        "Additional hidden layers: 512, 256, 128\n",
        "\n",
        "Batch_size 100\n",
        "\n",
        "Epochs: 200"
      ],
      "metadata": {
        "id": "07PFKnW-ajYG"
      }
    },
    {
      "cell_type": "code",
      "source": [
        "#Initialising the layers\n",
        "\n",
        "model4 = keras.Sequential()\n",
        "model4.add(keras.layers.Flatten(input_shape=(28, 28)))\n",
        "model4.add(Dense(units=512, activation='relu', kernel_regularizer=regularizers.L2(0.001)))\n",
        "model4.add(Dense(units=256, activation='relu', kernel_regularizer=regularizers.L2(0.001)))\n",
        "model4.add(Dense(units=128, activation='relu', kernel_regularizer=regularizers.L2(0.001)))\n",
        "model4.add(Dense(units=10, activation='softmax'))\n",
        "\n",
        "\n",
        "# # create an optimiser object and set the learning rate\n",
        "opt = tf.keras.optimizers.Adam(learning_rate=0.00001)\n",
        "\n",
        "# # Compile the model with the optimiser object\n",
        "model4.compile(loss='categorical_crossentropy', optimizer=opt, metrics=['accuracy'])\n",
        "\n",
        "# Fit the model \n",
        "history = model4.fit(\n",
        "    x_train,    # input training data\n",
        "    y_train_cat,    # output training data\n",
        "    batch_size=100,   # mini-batch gradient descent size\n",
        "    epochs=200,       # number of iterations over the entire training data\n",
        "    verbose=1,        # what type of information is printed during training\n",
        "    validation_data=(x_test, y_test_cat))  # input test data, output test data\n",
        "    "
      ],
      "metadata": {
        "colab": {
          "base_uri": "https://localhost:8080/"
        },
        "id": "FW_5v7FEUX4R",
        "outputId": "a2521aa5-a606-4222-aaab-77b654e2fd40"
      },
      "execution_count": null,
      "outputs": [
        {
          "output_type": "stream",
          "name": "stdout",
          "text": [
            "Epoch 1/200\n",
            "600/600 [==============================] - 35s 52ms/step - loss: 2.5351 - accuracy: 0.5900 - val_loss: 1.9868 - val_accuracy: 0.7219\n",
            "Epoch 2/200\n",
            "600/600 [==============================] - 16s 27ms/step - loss: 1.8127 - accuracy: 0.7662 - val_loss: 1.7189 - val_accuracy: 0.7806\n",
            "Epoch 3/200\n",
            "600/600 [==============================] - 10s 16ms/step - loss: 1.6317 - accuracy: 0.8034 - val_loss: 1.5965 - val_accuracy: 0.8056\n",
            "Epoch 4/200\n",
            "600/600 [==============================] - 9s 14ms/step - loss: 1.5321 - accuracy: 0.8216 - val_loss: 1.5177 - val_accuracy: 0.8190\n",
            "Epoch 5/200\n",
            "600/600 [==============================] - 9s 16ms/step - loss: 1.4619 - accuracy: 0.8311 - val_loss: 1.4578 - val_accuracy: 0.8255\n",
            "Epoch 6/200\n",
            "600/600 [==============================] - 11s 18ms/step - loss: 1.4073 - accuracy: 0.8382 - val_loss: 1.4119 - val_accuracy: 0.8290\n",
            "Epoch 7/200\n",
            "600/600 [==============================] - 10s 16ms/step - loss: 1.3620 - accuracy: 0.8427 - val_loss: 1.3698 - val_accuracy: 0.8363\n",
            "Epoch 8/200\n",
            "600/600 [==============================] - 8s 14ms/step - loss: 1.3238 - accuracy: 0.8474 - val_loss: 1.3341 - val_accuracy: 0.8395\n",
            "Epoch 9/200\n",
            "600/600 [==============================] - 9s 16ms/step - loss: 1.2910 - accuracy: 0.8497 - val_loss: 1.3041 - val_accuracy: 0.8412\n",
            "Epoch 10/200\n",
            "600/600 [==============================] - 10s 16ms/step - loss: 1.2614 - accuracy: 0.8538 - val_loss: 1.2790 - val_accuracy: 0.8428\n",
            "Epoch 11/200\n",
            "600/600 [==============================] - 12s 20ms/step - loss: 1.2357 - accuracy: 0.8553 - val_loss: 1.2545 - val_accuracy: 0.8446\n",
            "Epoch 12/200\n",
            "600/600 [==============================] - 8s 14ms/step - loss: 1.2121 - accuracy: 0.8581 - val_loss: 1.2346 - val_accuracy: 0.8441\n",
            "Epoch 13/200\n",
            "600/600 [==============================] - 10s 16ms/step - loss: 1.1913 - accuracy: 0.8604 - val_loss: 1.2140 - val_accuracy: 0.8467\n",
            "Epoch 14/200\n",
            "600/600 [==============================] - 10s 16ms/step - loss: 1.1721 - accuracy: 0.8616 - val_loss: 1.1955 - val_accuracy: 0.8491\n",
            "Epoch 15/200\n",
            "600/600 [==============================] - 9s 16ms/step - loss: 1.1547 - accuracy: 0.8631 - val_loss: 1.1806 - val_accuracy: 0.8486\n",
            "Epoch 16/200\n",
            "600/600 [==============================] - 10s 17ms/step - loss: 1.1386 - accuracy: 0.8648 - val_loss: 1.1659 - val_accuracy: 0.8509\n",
            "Epoch 17/200\n",
            "600/600 [==============================] - 10s 16ms/step - loss: 1.1234 - accuracy: 0.8665 - val_loss: 1.1530 - val_accuracy: 0.8525\n",
            "Epoch 18/200\n",
            "600/600 [==============================] - 10s 16ms/step - loss: 1.1097 - accuracy: 0.8680 - val_loss: 1.1405 - val_accuracy: 0.8522\n",
            "Epoch 19/200\n",
            "600/600 [==============================] - 9s 14ms/step - loss: 1.0966 - accuracy: 0.8695 - val_loss: 1.1265 - val_accuracy: 0.8537\n",
            "Epoch 20/200\n",
            "600/600 [==============================] - 9s 16ms/step - loss: 1.0839 - accuracy: 0.8702 - val_loss: 1.1174 - val_accuracy: 0.8543\n",
            "Epoch 21/200\n",
            "600/600 [==============================] - 11s 18ms/step - loss: 1.0723 - accuracy: 0.8709 - val_loss: 1.1052 - val_accuracy: 0.8569\n",
            "Epoch 22/200\n",
            "600/600 [==============================] - 10s 17ms/step - loss: 1.0606 - accuracy: 0.8716 - val_loss: 1.0944 - val_accuracy: 0.8576\n",
            "Epoch 23/200\n",
            "600/600 [==============================] - 9s 14ms/step - loss: 1.0503 - accuracy: 0.8731 - val_loss: 1.0831 - val_accuracy: 0.8582\n",
            "Epoch 24/200\n",
            "600/600 [==============================] - 10s 16ms/step - loss: 1.0395 - accuracy: 0.8745 - val_loss: 1.0736 - val_accuracy: 0.8587\n",
            "Epoch 25/200\n",
            "600/600 [==============================] - 9s 16ms/step - loss: 1.0297 - accuracy: 0.8741 - val_loss: 1.0675 - val_accuracy: 0.8587\n",
            "Epoch 26/200\n",
            "600/600 [==============================] - 11s 18ms/step - loss: 1.0204 - accuracy: 0.8759 - val_loss: 1.0567 - val_accuracy: 0.8582\n",
            "Epoch 27/200\n",
            "600/600 [==============================] - 9s 15ms/step - loss: 1.0111 - accuracy: 0.8762 - val_loss: 1.0465 - val_accuracy: 0.8584\n",
            "Epoch 28/200\n",
            "600/600 [==============================] - 10s 16ms/step - loss: 1.0019 - accuracy: 0.8769 - val_loss: 1.0400 - val_accuracy: 0.8620\n",
            "Epoch 29/200\n",
            "600/600 [==============================] - 10s 16ms/step - loss: 0.9929 - accuracy: 0.8774 - val_loss: 1.0306 - val_accuracy: 0.8613\n",
            "Epoch 30/200\n",
            "600/600 [==============================] - 9s 14ms/step - loss: 0.9845 - accuracy: 0.8777 - val_loss: 1.0277 - val_accuracy: 0.8597\n",
            "Epoch 31/200\n",
            "600/600 [==============================] - 10s 16ms/step - loss: 0.9761 - accuracy: 0.8787 - val_loss: 1.0162 - val_accuracy: 0.8610\n",
            "Epoch 32/200\n",
            "600/600 [==============================] - 11s 17ms/step - loss: 0.9675 - accuracy: 0.8804 - val_loss: 1.0092 - val_accuracy: 0.8615\n",
            "Epoch 33/200\n",
            "600/600 [==============================] - 10s 16ms/step - loss: 0.9601 - accuracy: 0.8805 - val_loss: 0.9992 - val_accuracy: 0.8629\n",
            "Epoch 34/200\n",
            "600/600 [==============================] - 8s 14ms/step - loss: 0.9520 - accuracy: 0.8812 - val_loss: 0.9965 - val_accuracy: 0.8615\n",
            "Epoch 35/200\n",
            "600/600 [==============================] - 10s 16ms/step - loss: 0.9447 - accuracy: 0.8825 - val_loss: 0.9858 - val_accuracy: 0.8619\n",
            "Epoch 36/200\n",
            "600/600 [==============================] - 10s 16ms/step - loss: 0.9374 - accuracy: 0.8826 - val_loss: 0.9797 - val_accuracy: 0.8641\n",
            "Epoch 37/200\n",
            "600/600 [==============================] - 10s 17ms/step - loss: 0.9304 - accuracy: 0.8837 - val_loss: 0.9731 - val_accuracy: 0.8649\n",
            "Epoch 38/200\n",
            "600/600 [==============================] - 9s 15ms/step - loss: 0.9232 - accuracy: 0.8843 - val_loss: 0.9657 - val_accuracy: 0.8653\n",
            "Epoch 39/200\n",
            "600/600 [==============================] - 10s 16ms/step - loss: 0.9166 - accuracy: 0.8842 - val_loss: 0.9624 - val_accuracy: 0.8633\n",
            "Epoch 40/200\n",
            "600/600 [==============================] - 9s 16ms/step - loss: 0.9096 - accuracy: 0.8853 - val_loss: 0.9525 - val_accuracy: 0.8660\n",
            "Epoch 41/200\n",
            "600/600 [==============================] - 8s 14ms/step - loss: 0.9032 - accuracy: 0.8853 - val_loss: 0.9469 - val_accuracy: 0.8675\n",
            "Epoch 42/200\n",
            "600/600 [==============================] - 11s 18ms/step - loss: 0.8968 - accuracy: 0.8859 - val_loss: 0.9436 - val_accuracy: 0.8665\n",
            "Epoch 43/200\n",
            "600/600 [==============================] - 9s 16ms/step - loss: 0.8906 - accuracy: 0.8868 - val_loss: 0.9388 - val_accuracy: 0.8663\n",
            "Epoch 44/200\n",
            "600/600 [==============================] - 10s 17ms/step - loss: 0.8843 - accuracy: 0.8871 - val_loss: 0.9300 - val_accuracy: 0.8673\n",
            "Epoch 45/200\n",
            "600/600 [==============================] - 9s 14ms/step - loss: 0.8781 - accuracy: 0.8881 - val_loss: 0.9253 - val_accuracy: 0.8677\n",
            "Epoch 46/200\n",
            "600/600 [==============================] - 9s 16ms/step - loss: 0.8727 - accuracy: 0.8878 - val_loss: 0.9193 - val_accuracy: 0.8661\n",
            "Epoch 47/200\n",
            "600/600 [==============================] - 11s 18ms/step - loss: 0.8668 - accuracy: 0.8883 - val_loss: 0.9156 - val_accuracy: 0.8684\n",
            "Epoch 48/200\n",
            "600/600 [==============================] - 9s 15ms/step - loss: 0.8609 - accuracy: 0.8888 - val_loss: 0.9100 - val_accuracy: 0.8696\n",
            "Epoch 49/200\n",
            "600/600 [==============================] - 9s 15ms/step - loss: 0.8561 - accuracy: 0.8890 - val_loss: 0.9026 - val_accuracy: 0.8691\n",
            "Epoch 50/200\n",
            "600/600 [==============================] - 10s 16ms/step - loss: 0.8504 - accuracy: 0.8898 - val_loss: 0.8975 - val_accuracy: 0.8697\n",
            "Epoch 51/200\n",
            "600/600 [==============================] - 10s 16ms/step - loss: 0.8450 - accuracy: 0.8911 - val_loss: 0.8939 - val_accuracy: 0.8689\n",
            "Epoch 52/200\n",
            "600/600 [==============================] - 9s 15ms/step - loss: 0.8395 - accuracy: 0.8905 - val_loss: 0.8901 - val_accuracy: 0.8707\n",
            "Epoch 53/200\n",
            "600/600 [==============================] - 10s 17ms/step - loss: 0.8345 - accuracy: 0.8909 - val_loss: 0.8835 - val_accuracy: 0.8707\n",
            "Epoch 54/200\n",
            "600/600 [==============================] - 12s 20ms/step - loss: 0.8292 - accuracy: 0.8916 - val_loss: 0.8842 - val_accuracy: 0.8701\n",
            "Epoch 55/200\n",
            "600/600 [==============================] - 9s 15ms/step - loss: 0.8242 - accuracy: 0.8922 - val_loss: 0.8744 - val_accuracy: 0.8721\n",
            "Epoch 56/200\n",
            "600/600 [==============================] - 9s 15ms/step - loss: 0.8192 - accuracy: 0.8929 - val_loss: 0.8706 - val_accuracy: 0.8717\n",
            "Epoch 57/200\n",
            "600/600 [==============================] - 11s 18ms/step - loss: 0.8148 - accuracy: 0.8927 - val_loss: 0.8665 - val_accuracy: 0.8723\n",
            "Epoch 58/200\n",
            "600/600 [==============================] - 10s 16ms/step - loss: 0.8100 - accuracy: 0.8934 - val_loss: 0.8624 - val_accuracy: 0.8706\n",
            "Epoch 59/200\n",
            "600/600 [==============================] - 9s 14ms/step - loss: 0.8053 - accuracy: 0.8937 - val_loss: 0.8570 - val_accuracy: 0.8728\n",
            "Epoch 60/200\n",
            "600/600 [==============================] - 10s 16ms/step - loss: 0.8005 - accuracy: 0.8944 - val_loss: 0.8545 - val_accuracy: 0.8734\n",
            "Epoch 61/200\n",
            "600/600 [==============================] - 10s 16ms/step - loss: 0.7966 - accuracy: 0.8943 - val_loss: 0.8501 - val_accuracy: 0.8725\n",
            "Epoch 62/200\n",
            "600/600 [==============================] - 10s 16ms/step - loss: 0.7916 - accuracy: 0.8951 - val_loss: 0.8461 - val_accuracy: 0.8722\n",
            "Epoch 63/200\n",
            "600/600 [==============================] - 10s 16ms/step - loss: 0.7877 - accuracy: 0.8949 - val_loss: 0.8420 - val_accuracy: 0.8718\n",
            "Epoch 64/200\n",
            "600/600 [==============================] - 10s 16ms/step - loss: 0.7829 - accuracy: 0.8962 - val_loss: 0.8390 - val_accuracy: 0.8732\n",
            "Epoch 65/200\n",
            "600/600 [==============================] - 10s 16ms/step - loss: 0.7790 - accuracy: 0.8960 - val_loss: 0.8329 - val_accuracy: 0.8724\n",
            "Epoch 66/200\n",
            "600/600 [==============================] - 9s 14ms/step - loss: 0.7749 - accuracy: 0.8961 - val_loss: 0.8317 - val_accuracy: 0.8727\n",
            "Epoch 67/200\n",
            "600/600 [==============================] - 10s 16ms/step - loss: 0.7702 - accuracy: 0.8967 - val_loss: 0.8273 - val_accuracy: 0.8755\n",
            "Epoch 68/200\n",
            "600/600 [==============================] - 11s 18ms/step - loss: 0.7664 - accuracy: 0.8971 - val_loss: 0.8235 - val_accuracy: 0.8735\n",
            "Epoch 69/200\n",
            "600/600 [==============================] - 10s 17ms/step - loss: 0.7624 - accuracy: 0.8977 - val_loss: 0.8184 - val_accuracy: 0.8744\n",
            "Epoch 70/200\n",
            "600/600 [==============================] - 9s 14ms/step - loss: 0.7585 - accuracy: 0.8976 - val_loss: 0.8164 - val_accuracy: 0.8734\n",
            "Epoch 71/200\n",
            "600/600 [==============================] - 10s 16ms/step - loss: 0.7546 - accuracy: 0.8975 - val_loss: 0.8120 - val_accuracy: 0.8740\n",
            "Epoch 72/200\n",
            "600/600 [==============================] - 10s 16ms/step - loss: 0.7507 - accuracy: 0.8986 - val_loss: 0.8098 - val_accuracy: 0.8744\n",
            "Epoch 73/200\n",
            "600/600 [==============================] - 11s 18ms/step - loss: 0.7469 - accuracy: 0.8986 - val_loss: 0.8067 - val_accuracy: 0.8732\n",
            "Epoch 74/200\n",
            "600/600 [==============================] - 9s 15ms/step - loss: 0.7436 - accuracy: 0.8991 - val_loss: 0.8022 - val_accuracy: 0.8759\n",
            "Epoch 75/200\n",
            "600/600 [==============================] - 10s 16ms/step - loss: 0.7393 - accuracy: 0.8996 - val_loss: 0.7970 - val_accuracy: 0.8769\n",
            "Epoch 76/200\n",
            "600/600 [==============================] - 10s 16ms/step - loss: 0.7361 - accuracy: 0.8998 - val_loss: 0.7944 - val_accuracy: 0.8755\n",
            "Epoch 77/200\n",
            "600/600 [==============================] - 8s 14ms/step - loss: 0.7321 - accuracy: 0.9002 - val_loss: 0.7934 - val_accuracy: 0.8747\n",
            "Epoch 78/200\n",
            "600/600 [==============================] - 11s 18ms/step - loss: 0.7290 - accuracy: 0.9003 - val_loss: 0.7882 - val_accuracy: 0.8751\n",
            "Epoch 79/200\n",
            "600/600 [==============================] - 10s 16ms/step - loss: 0.7250 - accuracy: 0.9005 - val_loss: 0.7863 - val_accuracy: 0.8764\n",
            "Epoch 80/200\n",
            "600/600 [==============================] - 10s 16ms/step - loss: 0.7215 - accuracy: 0.9014 - val_loss: 0.7829 - val_accuracy: 0.8750\n",
            "Epoch 81/200\n",
            "600/600 [==============================] - 9s 14ms/step - loss: 0.7185 - accuracy: 0.9011 - val_loss: 0.7793 - val_accuracy: 0.8762\n",
            "Epoch 82/200\n",
            "600/600 [==============================] - 10s 16ms/step - loss: 0.7148 - accuracy: 0.9011 - val_loss: 0.7774 - val_accuracy: 0.8755\n",
            "Epoch 83/200\n",
            "600/600 [==============================] - 11s 18ms/step - loss: 0.7116 - accuracy: 0.9014 - val_loss: 0.7747 - val_accuracy: 0.8740\n",
            "Epoch 84/200\n",
            "600/600 [==============================] - 9s 15ms/step - loss: 0.7086 - accuracy: 0.9021 - val_loss: 0.7706 - val_accuracy: 0.8760\n",
            "Epoch 85/200\n",
            "600/600 [==============================] - 9s 15ms/step - loss: 0.7053 - accuracy: 0.9027 - val_loss: 0.7713 - val_accuracy: 0.8748\n",
            "Epoch 86/200\n",
            "600/600 [==============================] - 10s 16ms/step - loss: 0.7021 - accuracy: 0.9023 - val_loss: 0.7699 - val_accuracy: 0.8764\n",
            "Epoch 87/200\n",
            "600/600 [==============================] - 10s 16ms/step - loss: 0.6989 - accuracy: 0.9025 - val_loss: 0.7620 - val_accuracy: 0.8758\n",
            "Epoch 88/200\n",
            "600/600 [==============================] - 9s 15ms/step - loss: 0.6953 - accuracy: 0.9029 - val_loss: 0.7598 - val_accuracy: 0.8770\n",
            "Epoch 89/200\n",
            "600/600 [==============================] - 10s 17ms/step - loss: 0.6928 - accuracy: 0.9033 - val_loss: 0.7572 - val_accuracy: 0.8775\n",
            "Epoch 90/200\n",
            "600/600 [==============================] - 10s 16ms/step - loss: 0.6890 - accuracy: 0.9038 - val_loss: 0.7558 - val_accuracy: 0.8767\n",
            "Epoch 91/200\n",
            "600/600 [==============================] - 9s 15ms/step - loss: 0.6865 - accuracy: 0.9036 - val_loss: 0.7515 - val_accuracy: 0.8786\n",
            "Epoch 92/200\n",
            "600/600 [==============================] - 9s 16ms/step - loss: 0.6836 - accuracy: 0.9039 - val_loss: 0.7525 - val_accuracy: 0.8789\n",
            "Epoch 93/200\n",
            "600/600 [==============================] - 10s 17ms/step - loss: 0.6807 - accuracy: 0.9055 - val_loss: 0.7465 - val_accuracy: 0.8774\n",
            "Epoch 94/200\n",
            "600/600 [==============================] - 10s 17ms/step - loss: 0.6777 - accuracy: 0.9050 - val_loss: 0.7432 - val_accuracy: 0.8778\n",
            "Epoch 95/200\n",
            "600/600 [==============================] - 9s 16ms/step - loss: 0.6750 - accuracy: 0.9057 - val_loss: 0.7432 - val_accuracy: 0.8778\n",
            "Epoch 96/200\n",
            "600/600 [==============================] - 9s 15ms/step - loss: 0.6720 - accuracy: 0.9057 - val_loss: 0.7396 - val_accuracy: 0.8782\n",
            "Epoch 97/200\n",
            "600/600 [==============================] - 10s 16ms/step - loss: 0.6689 - accuracy: 0.9053 - val_loss: 0.7377 - val_accuracy: 0.8765\n",
            "Epoch 98/200\n",
            "600/600 [==============================] - 10s 16ms/step - loss: 0.6660 - accuracy: 0.9064 - val_loss: 0.7334 - val_accuracy: 0.8773\n",
            "Epoch 99/200\n",
            "600/600 [==============================] - 11s 18ms/step - loss: 0.6636 - accuracy: 0.9061 - val_loss: 0.7310 - val_accuracy: 0.8767\n",
            "Epoch 100/200\n",
            "600/600 [==============================] - 9s 15ms/step - loss: 0.6606 - accuracy: 0.9068 - val_loss: 0.7277 - val_accuracy: 0.8795\n",
            "Epoch 101/200\n",
            "600/600 [==============================] - 10s 16ms/step - loss: 0.6583 - accuracy: 0.9068 - val_loss: 0.7309 - val_accuracy: 0.8773\n",
            "Epoch 102/200\n",
            "600/600 [==============================] - 10s 16ms/step - loss: 0.6552 - accuracy: 0.9073 - val_loss: 0.7234 - val_accuracy: 0.8787\n",
            "Epoch 103/200\n",
            "600/600 [==============================] - 9s 14ms/step - loss: 0.6529 - accuracy: 0.9070 - val_loss: 0.7216 - val_accuracy: 0.8797\n",
            "Epoch 104/200\n",
            "600/600 [==============================] - 11s 18ms/step - loss: 0.6499 - accuracy: 0.9075 - val_loss: 0.7194 - val_accuracy: 0.8811\n",
            "Epoch 105/200\n",
            "600/600 [==============================] - 10s 16ms/step - loss: 0.6478 - accuracy: 0.9078 - val_loss: 0.7178 - val_accuracy: 0.8812\n",
            "Epoch 106/200\n",
            "600/600 [==============================] - 10s 16ms/step - loss: 0.6457 - accuracy: 0.9074 - val_loss: 0.7148 - val_accuracy: 0.8795\n",
            "Epoch 107/200\n",
            "600/600 [==============================] - 9s 14ms/step - loss: 0.6424 - accuracy: 0.9078 - val_loss: 0.7143 - val_accuracy: 0.8798\n",
            "Epoch 108/200\n",
            "600/600 [==============================] - 10s 16ms/step - loss: 0.6397 - accuracy: 0.9088 - val_loss: 0.7109 - val_accuracy: 0.8805\n",
            "Epoch 109/200\n",
            "600/600 [==============================] - 11s 19ms/step - loss: 0.6375 - accuracy: 0.9087 - val_loss: 0.7087 - val_accuracy: 0.8807\n",
            "Epoch 110/200\n",
            "600/600 [==============================] - 9s 14ms/step - loss: 0.6350 - accuracy: 0.9089 - val_loss: 0.7075 - val_accuracy: 0.8802\n",
            "Epoch 111/200\n",
            "600/600 [==============================] - 10s 17ms/step - loss: 0.6327 - accuracy: 0.9086 - val_loss: 0.7036 - val_accuracy: 0.8816\n",
            "Epoch 112/200\n",
            "600/600 [==============================] - 10s 16ms/step - loss: 0.6306 - accuracy: 0.9090 - val_loss: 0.7021 - val_accuracy: 0.8809\n",
            "Epoch 113/200\n",
            "600/600 [==============================] - 9s 16ms/step - loss: 0.6280 - accuracy: 0.9105 - val_loss: 0.7023 - val_accuracy: 0.8792\n",
            "Epoch 114/200\n",
            "600/600 [==============================] - 10s 17ms/step - loss: 0.6256 - accuracy: 0.9096 - val_loss: 0.6984 - val_accuracy: 0.8810\n",
            "Epoch 115/200\n",
            "600/600 [==============================] - 10s 16ms/step - loss: 0.6234 - accuracy: 0.9101 - val_loss: 0.6967 - val_accuracy: 0.8816\n",
            "Epoch 116/200\n",
            "600/600 [==============================] - 10s 16ms/step - loss: 0.6206 - accuracy: 0.9105 - val_loss: 0.6947 - val_accuracy: 0.8796\n",
            "Epoch 117/200\n",
            "600/600 [==============================] - 9s 16ms/step - loss: 0.6177 - accuracy: 0.9110 - val_loss: 0.6922 - val_accuracy: 0.8819\n",
            "Epoch 118/200\n",
            "600/600 [==============================] - 9s 15ms/step - loss: 0.6159 - accuracy: 0.9107 - val_loss: 0.6919 - val_accuracy: 0.8814\n",
            "Epoch 119/200\n",
            "600/600 [==============================] - 11s 18ms/step - loss: 0.6143 - accuracy: 0.9107 - val_loss: 0.6884 - val_accuracy: 0.8814\n",
            "Epoch 120/200\n",
            "600/600 [==============================] - 10s 16ms/step - loss: 0.6114 - accuracy: 0.9108 - val_loss: 0.6871 - val_accuracy: 0.8818\n",
            "Epoch 121/200\n",
            "600/600 [==============================] - 10s 16ms/step - loss: 0.6097 - accuracy: 0.9115 - val_loss: 0.6847 - val_accuracy: 0.8824\n",
            "Epoch 122/200\n",
            "600/600 [==============================] - 9s 15ms/step - loss: 0.6070 - accuracy: 0.9124 - val_loss: 0.6839 - val_accuracy: 0.8826\n",
            "Epoch 123/200\n",
            "600/600 [==============================] - 10s 16ms/step - loss: 0.6049 - accuracy: 0.9122 - val_loss: 0.6852 - val_accuracy: 0.8816\n",
            "Epoch 124/200\n",
            "600/600 [==============================] - 11s 19ms/step - loss: 0.6028 - accuracy: 0.9129 - val_loss: 0.6791 - val_accuracy: 0.8818\n",
            "Epoch 125/200\n",
            "600/600 [==============================] - 9s 14ms/step - loss: 0.6005 - accuracy: 0.9129 - val_loss: 0.6816 - val_accuracy: 0.8815\n",
            "Epoch 126/200\n",
            "600/600 [==============================] - 10s 16ms/step - loss: 0.5981 - accuracy: 0.9131 - val_loss: 0.6758 - val_accuracy: 0.8834\n",
            "Epoch 127/200\n",
            "600/600 [==============================] - 10s 16ms/step - loss: 0.5965 - accuracy: 0.9135 - val_loss: 0.6746 - val_accuracy: 0.8825\n",
            "Epoch 128/200\n",
            "600/600 [==============================] - 10s 16ms/step - loss: 0.5945 - accuracy: 0.9135 - val_loss: 0.6719 - val_accuracy: 0.8832\n",
            "Epoch 129/200\n",
            "600/600 [==============================] - 10s 17ms/step - loss: 0.5920 - accuracy: 0.9137 - val_loss: 0.6713 - val_accuracy: 0.8817\n",
            "Epoch 130/200\n",
            "600/600 [==============================] - 10s 16ms/step - loss: 0.5906 - accuracy: 0.9135 - val_loss: 0.6694 - val_accuracy: 0.8824\n",
            "Epoch 131/200\n",
            "600/600 [==============================] - 10s 16ms/step - loss: 0.5878 - accuracy: 0.9142 - val_loss: 0.6689 - val_accuracy: 0.8821\n",
            "Epoch 132/200\n",
            "600/600 [==============================] - 9s 15ms/step - loss: 0.5865 - accuracy: 0.9142 - val_loss: 0.6645 - val_accuracy: 0.8825\n",
            "Epoch 133/200\n",
            "600/600 [==============================] - 9s 15ms/step - loss: 0.5841 - accuracy: 0.9140 - val_loss: 0.6630 - val_accuracy: 0.8838\n",
            "Epoch 134/200\n",
            "600/600 [==============================] - 10s 16ms/step - loss: 0.5821 - accuracy: 0.9146 - val_loss: 0.6665 - val_accuracy: 0.8814\n",
            "Epoch 135/200\n",
            "600/600 [==============================] - 11s 18ms/step - loss: 0.5799 - accuracy: 0.9153 - val_loss: 0.6623 - val_accuracy: 0.8819\n",
            "Epoch 136/200\n",
            "600/600 [==============================] - 10s 16ms/step - loss: 0.5784 - accuracy: 0.9146 - val_loss: 0.6594 - val_accuracy: 0.8832\n",
            "Epoch 137/200\n",
            "600/600 [==============================] - 9s 15ms/step - loss: 0.5764 - accuracy: 0.9157 - val_loss: 0.6599 - val_accuracy: 0.8835\n",
            "Epoch 138/200\n",
            "600/600 [==============================] - 10s 16ms/step - loss: 0.5739 - accuracy: 0.9157 - val_loss: 0.6588 - val_accuracy: 0.8819\n",
            "Epoch 139/200\n",
            "600/600 [==============================] - 10s 16ms/step - loss: 0.5721 - accuracy: 0.9163 - val_loss: 0.6548 - val_accuracy: 0.8838\n",
            "Epoch 140/200\n",
            "600/600 [==============================] - 11s 18ms/step - loss: 0.5707 - accuracy: 0.9157 - val_loss: 0.6521 - val_accuracy: 0.8851\n",
            "Epoch 141/200\n",
            "600/600 [==============================] - 9s 15ms/step - loss: 0.5683 - accuracy: 0.9162 - val_loss: 0.6528 - val_accuracy: 0.8839\n",
            "Epoch 142/200\n",
            "600/600 [==============================] - 10s 16ms/step - loss: 0.5669 - accuracy: 0.9162 - val_loss: 0.6494 - val_accuracy: 0.8839\n",
            "Epoch 143/200\n",
            "600/600 [==============================] - 10s 16ms/step - loss: 0.5649 - accuracy: 0.9164 - val_loss: 0.6478 - val_accuracy: 0.8847\n",
            "Epoch 144/200\n",
            "600/600 [==============================] - 9s 14ms/step - loss: 0.5627 - accuracy: 0.9173 - val_loss: 0.6490 - val_accuracy: 0.8826\n",
            "Epoch 145/200\n",
            "600/600 [==============================] - 11s 19ms/step - loss: 0.5612 - accuracy: 0.9171 - val_loss: 0.6448 - val_accuracy: 0.8845\n",
            "Epoch 146/200\n",
            "600/600 [==============================] - 10s 16ms/step - loss: 0.5597 - accuracy: 0.9176 - val_loss: 0.6452 - val_accuracy: 0.8836\n",
            "Epoch 147/200\n",
            "600/600 [==============================] - 10s 16ms/step - loss: 0.5578 - accuracy: 0.9175 - val_loss: 0.6429 - val_accuracy: 0.8850\n",
            "Epoch 148/200\n",
            "600/600 [==============================] - 9s 15ms/step - loss: 0.5555 - accuracy: 0.9175 - val_loss: 0.6402 - val_accuracy: 0.8848\n",
            "Epoch 149/200\n",
            "600/600 [==============================] - 10s 16ms/step - loss: 0.5544 - accuracy: 0.9180 - val_loss: 0.6390 - val_accuracy: 0.8862\n",
            "Epoch 150/200\n",
            "600/600 [==============================] - 11s 18ms/step - loss: 0.5524 - accuracy: 0.9180 - val_loss: 0.6377 - val_accuracy: 0.8854\n",
            "Epoch 151/200\n",
            "600/600 [==============================] - 10s 17ms/step - loss: 0.5505 - accuracy: 0.9183 - val_loss: 0.6375 - val_accuracy: 0.8853\n",
            "Epoch 152/200\n",
            "600/600 [==============================] - 13s 21ms/step - loss: 0.5489 - accuracy: 0.9182 - val_loss: 0.6341 - val_accuracy: 0.8856\n",
            "Epoch 153/200\n",
            "600/600 [==============================] - 10s 17ms/step - loss: 0.5470 - accuracy: 0.9184 - val_loss: 0.6386 - val_accuracy: 0.8831\n",
            "Epoch 154/200\n",
            "600/600 [==============================] - 11s 18ms/step - loss: 0.5454 - accuracy: 0.9189 - val_loss: 0.6353 - val_accuracy: 0.8849\n",
            "Epoch 155/200\n",
            "600/600 [==============================] - 10s 16ms/step - loss: 0.5437 - accuracy: 0.9186 - val_loss: 0.6313 - val_accuracy: 0.8847\n",
            "Epoch 156/200\n",
            "600/600 [==============================] - 10s 16ms/step - loss: 0.5419 - accuracy: 0.9198 - val_loss: 0.6302 - val_accuracy: 0.8849\n",
            "Epoch 157/200\n",
            "600/600 [==============================] - 9s 15ms/step - loss: 0.5403 - accuracy: 0.9190 - val_loss: 0.6281 - val_accuracy: 0.8861\n",
            "Epoch 158/200\n",
            "600/600 [==============================] - 10s 16ms/step - loss: 0.5383 - accuracy: 0.9203 - val_loss: 0.6265 - val_accuracy: 0.8863\n",
            "Epoch 159/200\n",
            "600/600 [==============================] - 11s 19ms/step - loss: 0.5372 - accuracy: 0.9202 - val_loss: 0.6262 - val_accuracy: 0.8852\n",
            "Epoch 160/200\n",
            "600/600 [==============================] - 10s 17ms/step - loss: 0.5355 - accuracy: 0.9207 - val_loss: 0.6251 - val_accuracy: 0.8852\n",
            "Epoch 161/200\n",
            "600/600 [==============================] - 9s 15ms/step - loss: 0.5336 - accuracy: 0.9210 - val_loss: 0.6253 - val_accuracy: 0.8846\n",
            "Epoch 162/200\n",
            "600/600 [==============================] - 10s 17ms/step - loss: 0.5320 - accuracy: 0.9202 - val_loss: 0.6213 - val_accuracy: 0.8865\n",
            "Epoch 163/200\n",
            "600/600 [==============================] - 11s 18ms/step - loss: 0.5308 - accuracy: 0.9208 - val_loss: 0.6234 - val_accuracy: 0.8854\n",
            "Epoch 164/200\n",
            "600/600 [==============================] - 10s 16ms/step - loss: 0.5288 - accuracy: 0.9214 - val_loss: 0.6236 - val_accuracy: 0.8825\n",
            "Epoch 165/200\n",
            "600/600 [==============================] - 9s 15ms/step - loss: 0.5271 - accuracy: 0.9214 - val_loss: 0.6178 - val_accuracy: 0.8869\n",
            "Epoch 166/200\n",
            "600/600 [==============================] - 10s 16ms/step - loss: 0.5260 - accuracy: 0.9209 - val_loss: 0.6181 - val_accuracy: 0.8849\n",
            "Epoch 167/200\n",
            "600/600 [==============================] - 10s 16ms/step - loss: 0.5245 - accuracy: 0.9214 - val_loss: 0.6175 - val_accuracy: 0.8873\n",
            "Epoch 168/200\n",
            "600/600 [==============================] - 12s 20ms/step - loss: 0.5229 - accuracy: 0.9223 - val_loss: 0.6175 - val_accuracy: 0.8874\n",
            "Epoch 169/200\n",
            "600/600 [==============================] - 9s 15ms/step - loss: 0.5213 - accuracy: 0.9220 - val_loss: 0.6148 - val_accuracy: 0.8866\n",
            "Epoch 170/200\n",
            "600/600 [==============================] - 10s 16ms/step - loss: 0.5194 - accuracy: 0.9227 - val_loss: 0.6123 - val_accuracy: 0.8873\n",
            "Epoch 171/200\n",
            "600/600 [==============================] - 10s 16ms/step - loss: 0.5178 - accuracy: 0.9229 - val_loss: 0.6129 - val_accuracy: 0.8846\n",
            "Epoch 172/200\n",
            "600/600 [==============================] - 10s 16ms/step - loss: 0.5165 - accuracy: 0.9231 - val_loss: 0.6100 - val_accuracy: 0.8860\n",
            "Epoch 173/200\n",
            "600/600 [==============================] - 10s 17ms/step - loss: 0.5150 - accuracy: 0.9231 - val_loss: 0.6097 - val_accuracy: 0.8873\n",
            "Epoch 174/200\n",
            "600/600 [==============================] - 10s 16ms/step - loss: 0.5137 - accuracy: 0.9229 - val_loss: 0.6072 - val_accuracy: 0.8870\n",
            "Epoch 175/200\n",
            "600/600 [==============================] - 10s 16ms/step - loss: 0.5127 - accuracy: 0.9227 - val_loss: 0.6063 - val_accuracy: 0.8864\n",
            "Epoch 176/200\n",
            "600/600 [==============================] - 9s 16ms/step - loss: 0.5112 - accuracy: 0.9236 - val_loss: 0.6165 - val_accuracy: 0.8818\n",
            "Epoch 177/200\n",
            "600/600 [==============================] - 9s 15ms/step - loss: 0.5098 - accuracy: 0.9235 - val_loss: 0.6050 - val_accuracy: 0.8866\n",
            "Epoch 178/200\n",
            "600/600 [==============================] - 11s 19ms/step - loss: 0.5082 - accuracy: 0.9233 - val_loss: 0.6043 - val_accuracy: 0.8861\n",
            "Epoch 179/200\n",
            "600/600 [==============================] - 10s 16ms/step - loss: 0.5064 - accuracy: 0.9240 - val_loss: 0.6045 - val_accuracy: 0.8868\n",
            "Epoch 180/200\n",
            "600/600 [==============================] - 10s 16ms/step - loss: 0.5055 - accuracy: 0.9241 - val_loss: 0.6025 - val_accuracy: 0.8869\n",
            "Epoch 181/200\n",
            "600/600 [==============================] - 9s 15ms/step - loss: 0.5038 - accuracy: 0.9241 - val_loss: 0.6019 - val_accuracy: 0.8872\n",
            "Epoch 182/200\n",
            "600/600 [==============================] - 10s 16ms/step - loss: 0.5028 - accuracy: 0.9244 - val_loss: 0.6044 - val_accuracy: 0.8848\n",
            "Epoch 183/200\n",
            "600/600 [==============================] - 11s 18ms/step - loss: 0.5010 - accuracy: 0.9248 - val_loss: 0.5975 - val_accuracy: 0.8886\n",
            "Epoch 184/200\n",
            "600/600 [==============================] - 9s 15ms/step - loss: 0.4991 - accuracy: 0.9262 - val_loss: 0.5979 - val_accuracy: 0.8870\n",
            "Epoch 185/200\n",
            "600/600 [==============================] - 10s 16ms/step - loss: 0.4974 - accuracy: 0.9258 - val_loss: 0.5982 - val_accuracy: 0.8870\n",
            "Epoch 186/200\n",
            "600/600 [==============================] - 10s 16ms/step - loss: 0.4965 - accuracy: 0.9259 - val_loss: 0.5945 - val_accuracy: 0.8878\n",
            "Epoch 187/200\n",
            "600/600 [==============================] - 10s 16ms/step - loss: 0.4955 - accuracy: 0.9256 - val_loss: 0.6002 - val_accuracy: 0.8828\n",
            "Epoch 188/200\n",
            "600/600 [==============================] - 10s 17ms/step - loss: 0.4939 - accuracy: 0.9262 - val_loss: 0.5979 - val_accuracy: 0.8853\n",
            "Epoch 189/200\n",
            "600/600 [==============================] - 10s 17ms/step - loss: 0.4925 - accuracy: 0.9261 - val_loss: 0.5950 - val_accuracy: 0.8857\n",
            "Epoch 190/200\n",
            "600/600 [==============================] - 10s 16ms/step - loss: 0.4913 - accuracy: 0.9262 - val_loss: 0.5939 - val_accuracy: 0.8883\n",
            "Epoch 191/200\n",
            "600/600 [==============================] - 10s 17ms/step - loss: 0.4900 - accuracy: 0.9267 - val_loss: 0.6019 - val_accuracy: 0.8826\n",
            "Epoch 192/200\n",
            "600/600 [==============================] - 9s 15ms/step - loss: 0.4889 - accuracy: 0.9264 - val_loss: 0.5899 - val_accuracy: 0.8876\n",
            "Epoch 193/200\n",
            "600/600 [==============================] - 11s 19ms/step - loss: 0.4873 - accuracy: 0.9269 - val_loss: 0.5887 - val_accuracy: 0.8880\n",
            "Epoch 194/200\n",
            "600/600 [==============================] - 10s 16ms/step - loss: 0.4859 - accuracy: 0.9270 - val_loss: 0.5884 - val_accuracy: 0.8867\n",
            "Epoch 195/200\n",
            "600/600 [==============================] - 10s 16ms/step - loss: 0.4847 - accuracy: 0.9271 - val_loss: 0.5884 - val_accuracy: 0.8865\n",
            "Epoch 196/200\n",
            "600/600 [==============================] - 9s 15ms/step - loss: 0.4837 - accuracy: 0.9273 - val_loss: 0.5864 - val_accuracy: 0.8889\n",
            "Epoch 197/200\n",
            "600/600 [==============================] - 11s 18ms/step - loss: 0.4827 - accuracy: 0.9270 - val_loss: 0.5844 - val_accuracy: 0.8870\n",
            "Epoch 198/200\n",
            "600/600 [==============================] - 10s 16ms/step - loss: 0.4811 - accuracy: 0.9279 - val_loss: 0.5848 - val_accuracy: 0.8881\n",
            "Epoch 199/200\n",
            "600/600 [==============================] - 9s 16ms/step - loss: 0.4796 - accuracy: 0.9286 - val_loss: 0.5838 - val_accuracy: 0.8892\n",
            "Epoch 200/200\n",
            "600/600 [==============================] - 9s 15ms/step - loss: 0.4782 - accuracy: 0.9290 - val_loss: 0.5830 - val_accuracy: 0.8893\n"
          ]
        }
      ]
    },
    {
      "cell_type": "code",
      "metadata": {
        "id": "PqalM3UVlK2O",
        "colab": {
          "base_uri": "https://localhost:8080/"
        },
        "outputId": "834106dc-5aad-457b-9b2d-c1406933c8c0"
      },
      "source": [
        "model4.summary()"
      ],
      "execution_count": null,
      "outputs": [
        {
          "output_type": "stream",
          "name": "stdout",
          "text": [
            "Model: \"sequential\"\n",
            "_________________________________________________________________\n",
            " Layer (type)                Output Shape              Param #   \n",
            "=================================================================\n",
            " flatten (Flatten)           (None, 784)               0         \n",
            "                                                                 \n",
            " dense (Dense)               (None, 512)               401920    \n",
            "                                                                 \n",
            " dense_1 (Dense)             (None, 256)               131328    \n",
            "                                                                 \n",
            " dense_2 (Dense)             (None, 128)               32896     \n",
            "                                                                 \n",
            " dense_3 (Dense)             (None, 10)                1290      \n",
            "                                                                 \n",
            "=================================================================\n",
            "Total params: 567,434\n",
            "Trainable params: 567,434\n",
            "Non-trainable params: 0\n",
            "_________________________________________________________________\n"
          ]
        }
      ]
    },
    {
      "cell_type": "code",
      "source": [
        "# summarize the history for accuracy\n",
        "plt.plot(history.history['accuracy'])\n",
        "plt.plot(history.history['val_accuracy'])\n",
        "plt.title('model4 accuracy')\n",
        "plt.ylabel('accuracy')\n",
        "plt.xlabel('epoch')\n",
        "plt.legend(['train','test'], loc='upper left')\n",
        "plt.show()\n",
        "\n",
        "# summarize the history for loss\n",
        "plt.plot(history.history['loss'])\n",
        "plt.plot(history.history['val_loss'])\n",
        "plt.title('model4 loss')\n",
        "plt.ylabel('loss')\n",
        "plt.xlabel('epoch')\n",
        "plt.legend(['train','test'], loc='upper left')\n",
        "plt.show()"
      ],
      "metadata": {
        "id": "SABs5Ur-xlL4",
        "colab": {
          "base_uri": "https://localhost:8080/",
          "height": 573
        },
        "outputId": "0e2f70d8-afdb-42f7-be02-bc30281dca19"
      },
      "execution_count": null,
      "outputs": [
        {
          "output_type": "display_data",
          "data": {
            "text/plain": [
              "<Figure size 432x288 with 1 Axes>"
            ],
            "image/png": "[encoded data removed]"
          },
          "metadata": {
            "needs_background": "light"
          }
        },
        {
          "output_type": "display_data",
          "data": {
            "text/plain": [
              "<Figure size 432x288 with 1 Axes>"
            ],
            "image/png": "[encoded data removed]"
          },
          "metadata": {
            "needs_background": "light"
          }
        }
      ]
    },
    {
      "cell_type": "markdown",
      "source": [
        "#Evaluation"
      ],
      "metadata": {
        "id": "kBDN6JcMwUt4"
      }
    },
    {
      "cell_type": "code",
      "source": [
        "evaluation = model4.evaluate(x_test, y_test_cat)\n",
        "print('[test loss, test accuracy]:', evaluation)"
      ],
      "metadata": {
        "id": "riqkIK_WtAAI",
        "colab": {
          "base_uri": "https://localhost:8080/"
        },
        "outputId": "e93c9858-2647-45da-faf6-fee6142f4c28"
      },
      "execution_count": null,
      "outputs": [
        {
          "output_type": "stream",
          "name": "stdout",
          "text": [
            "313/313 [==============================] - 1s 4ms/step - loss: 0.5830 - accuracy: 0.8893\n",
            "[test loss, test accuracy]: [0.5830386877059937, 0.8892999887466431]\n"
          ]
        }
      ]
    },
    {
      "cell_type": "markdown",
      "source": [
        "#Predictions"
      ],
      "metadata": {
        "id": "Ny7PRivEwSPZ"
      }
    },
    {
      "cell_type": "code",
      "source": [
        "plotImages(x_test[:10])"
      ],
      "metadata": {
        "id": "UEdx4vEVwKEK",
        "colab": {
          "base_uri": "https://localhost:8080/",
          "height": 163
        },
        "outputId": "5629e3a7-407b-4945-a68a-dd485d123711"
      },
      "execution_count": null,
      "outputs": [
        {
          "output_type": "display_data",
          "data": {
            "text/plain": [
              "<Figure size 1440x1440 with 10 Axes>"
            ],
            "image/png": "[encoded data removed]"
          },
          "metadata": {
            "needs_background": "light"
          }
        }
      ]
    },
    {
      "cell_type": "code",
      "source": [
        "predictions=np.argmax(model4.predict(x_test[:10]),axis=-1)\n",
        "y_pred2 = predictions\n",
        "print(y_pred2)"
      ],
      "metadata": {
        "id": "wb7j_dxqwdoX",
        "colab": {
          "base_uri": "https://localhost:8080/"
        },
        "outputId": "706fbd81-2980-4eaf-9d82-3f6898acd067"
      },
      "execution_count": null,
      "outputs": [
        {
          "output_type": "stream",
          "name": "stdout",
          "text": [
            "1/1 [==============================] - 0s 157ms/step\n",
            "[9 2 1 1 6 1 4 6 5 7]\n"
          ]
        }
      ]
    },
    {
      "cell_type": "code",
      "source": [
        "# predictions=np.argmax(model4.predict(x_test),axis=-1)\n",
        "# y_pred2 = predictions\n",
        "# print(y_pred2)"
      ],
      "metadata": {
        "id": "IccYMBg8HaSh"
      },
      "execution_count": null,
      "outputs": []
    },
    {
      "cell_type": "markdown",
      "source": [
        "## Scoring"
      ],
      "metadata": {
        "id": "IB3JbzRvxa_r"
      }
    },
    {
      "cell_type": "code",
      "source": [
        "from sklearn.metrics import precision_recall_fscore_support as score\n",
        "\n",
        "precision, recall, fscore, support = score(y_test, y_pred2)\n",
        "\n",
        "print('precision: {}'.format(precision))\n",
        "print('recall: {}'.format(recall))\n",
        "print('fscore: {}'.format(fscore))"
      ],
      "metadata": {
        "id": "ock3Rk-4xYnQ",
        "colab": {
          "base_uri": "https://localhost:8080/"
        },
        "outputId": "33f5c69f-52c4-42b5-e91c-398b395c93ec"
      },
      "execution_count": null,
      "outputs": [
        {
          "output_type": "stream",
          "name": "stdout",
          "text": [
            "precision: [0.77212971 0.98170732 0.88546256 0.83302583 0.67382962 0.96855984\n",
            " 0.74069149 0.9447341  0.92761905 0.91792453]\n",
            "recall: [0.881 0.966 0.603 0.903 0.878 0.955 0.557 0.906 0.974 0.973]\n",
            "fscore: [0.82297992 0.97379032 0.7174301  0.86660269 0.76248372 0.96173212\n",
            " 0.63584475 0.92496172 0.9502439  0.94466019]\n"
          ]
        }
      ]
    }
  ]
}